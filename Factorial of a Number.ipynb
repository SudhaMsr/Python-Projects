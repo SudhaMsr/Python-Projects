{
  "nbformat": 4,
  "nbformat_minor": 0,
  "metadata": {
    "colab": {
      "provenance": []
    },
    "kernelspec": {
      "name": "python3",
      "display_name": "Python 3"
    },
    "language_info": {
      "name": "python"
    }
  },
  "cells": [
    {
      "cell_type": "markdown",
      "source": [
        "###"
      ],
      "metadata": {
        "id": "HwKaQ7Qr6MBv"
      }
    },
    {
      "cell_type": "markdown",
      "source": [
        "\n",
        "---\n",
        "\n",
        "# 🔁 Factorial in Python: Recursive vs Iterative Explained Simply\n",
        "\n",
        "If you're learning Python and want to understand **recursion** and **loops**, one of the best examples to start with is the **factorial function**. It's short, logical, and teaches you core programming concepts.\n",
        "\n",
        "In this post, we’ll cover:\n",
        "\n",
        "* ✅ What factorial means\n",
        "* 🔁 How to calculate factorial using a **loop** (iterative)\n",
        "* 🔄 How to calculate factorial using **recursion**\n",
        "* ⚖️ Comparison between both methods\n",
        "* ⚠️ Handling invalid input\n",
        "\n",
        "---\n",
        "\n",
        "## 📘 What is a Factorial?\n",
        "\n",
        "The **factorial** of a non-negative integer `n` (written as `n!`) is the product of all positive integers less than or equal to `n`.\n",
        "\n",
        "### Examples:\n",
        "\n",
        "```text\n",
        "5! = 5 × 4 × 3 × 2 × 1 = 120\n",
        "3! = 3 × 2 × 1 = 6\n",
        "1! = 1\n",
        "0! = 1   ← (Defined by math rules)\n",
        "```\n",
        "\n",
        "---\n",
        "\n",
        "## 🛠️ Method 1: Iterative Factorial (Using a Loop)\n",
        "\n",
        "This approach uses a simple `for` loop to multiply numbers from `1` to `n`.\n",
        "\n",
        "### ✅ Code:"
      ],
      "metadata": {
        "id": "3K8D2Wep6PZn"
      }
    },
    {
      "cell_type": "code",
      "source": [
        "def factorial_iterative(n):\n",
        "    \"\"\"\n",
        "    Calculates the factorial of a non-negative integer using iteration.\n",
        "    \"\"\"\n",
        "    if n < 0:\n",
        "        return \"Error: Factorial is not defined for negative numbers.\"\n",
        "\n",
        "    result = 1\n",
        "    for i in range(1, n + 1):\n",
        "        result *= i\n",
        "    return result"
      ],
      "metadata": {
        "id": "FGeqU-ph5C7K"
      },
      "execution_count": 1,
      "outputs": []
    },
    {
      "cell_type": "markdown",
      "source": [
        "### 🧪 Example:"
      ],
      "metadata": {
        "id": "ye3Lxztf68B4"
      }
    },
    {
      "cell_type": "code",
      "source": [
        "print(factorial_iterative(5))  # Output: 120"
      ],
      "metadata": {
        "colab": {
          "base_uri": "https://localhost:8080/"
        },
        "id": "JcawByFP6iVY",
        "outputId": "ec60a5a1-0175-4af9-fafc-fee2418a8c89"
      },
      "execution_count": 2,
      "outputs": [
        {
          "output_type": "stream",
          "name": "stdout",
          "text": [
            "120\n"
          ]
        }
      ]
    },
    {
      "cell_type": "markdown",
      "source": [
        "# 🔄 Method 2: Recursive Factorial (Function Calls Itself)\n",
        "\n",
        "This method breaks the problem into smaller subproblems and solves them recursively.\n",
        "\n",
        "### ✅ Code:\n"
      ],
      "metadata": {
        "id": "s4kiWk7g7BXP"
      }
    },
    {
      "cell_type": "code",
      "source": [
        "def factorial_recursive(n):\n",
        "    \"\"\"\n",
        "    Calculates the factorial of a non-negative integer using recursion.\n",
        "    \"\"\"\n",
        "    if n < 0:\n",
        "        return \"Error: Factorial is not defined for negative numbers.\"\n",
        "    elif n == 0:\n",
        "        return 1\n",
        "    else:\n",
        "        return n * factorial_recursive(n - 1)"
      ],
      "metadata": {
        "id": "I6o9dGhi7EZA"
      },
      "execution_count": 3,
      "outputs": []
    },
    {
      "cell_type": "markdown",
      "source": [
        "### 🧪 Example:"
      ],
      "metadata": {
        "id": "VvVTVsoV7GYw"
      }
    },
    {
      "cell_type": "code",
      "source": [
        "print(factorial_recursive(5))  # Output: 120"
      ],
      "metadata": {
        "colab": {
          "base_uri": "https://localhost:8080/"
        },
        "id": "hZrIHJnX7JjU",
        "outputId": "350916a4-b401-4d03-e9bf-da94eba8c899"
      },
      "execution_count": 4,
      "outputs": [
        {
          "output_type": "stream",
          "name": "stdout",
          "text": [
            "120\n"
          ]
        }
      ]
    },
    {
      "cell_type": "markdown",
      "source": [
        "## 🔍 How Recursive Version Works (Step-by-Step)\n",
        "\n",
        "Let’s look at what happens when we call `factorial_recursive(3)`:\n",
        "\n",
        "```text\n",
        "factorial_recursive(3)\n",
        "→ 3 * factorial_recursive(2)\n",
        "       → 2 * factorial_recursive(1)\n",
        "              → 1 * factorial_recursive(0)\n",
        "                     → returns 1 (base case)\n",
        "              → returns 1\n",
        "       → returns 2\n",
        "→ returns 6\n",
        "```\n",
        "\n",
        "Each function call waits for the next one to return until it hits the base case (`n == 0`), then multiplies everything back up.\n",
        "\n",
        "\n",
        "\n",
        "\n",
        "---\n",
        "\n",
        "### 1. Explanation of `n + 1` in the **iterative** method:\n",
        "\n",
        "In this code snippet:\n",
        "\n",
        "```python\n",
        "for i in range(1, n + 1):\n",
        "    result *= i\n",
        "```\n",
        "\n",
        "* `range(1, n + 1)` generates numbers starting **from 1 up to and including n**.\n",
        "* Why `n + 1`? Because `range` in Python goes *up to but not including* the end value.\n",
        "* So if `n` is 5, `range(1, 6)` generates 1, 2, 3, 4, 5 — all the numbers you want to multiply to get `5!`.\n",
        "\n",
        "---\n",
        "\n",
        "### 2. Explanation of `n - 1` in the **recursive** method:\n",
        "\n",
        "Look at this part:\n",
        "\n",
        "```python\n",
        "return n * factorial_recursive(n - 1)\n",
        "```\n",
        "\n",
        "* This is the recursive step where the function calls itself with a smaller number.\n",
        "* It breaks the problem into a smaller factorial: `factorial(n)` depends on `factorial(n - 1)`.\n",
        "* For example, `factorial_recursive(5)` calculates `5 * factorial_recursive(4)`.\n",
        "* This keeps going until the base case is reached (`n == 0`), which returns 1.\n",
        "* This is how recursion breaks down the problem and then multiplies back up.\n",
        "\n"
      ],
      "metadata": {
        "id": "FC_Fnbz-7Mck"
      }
    },
    {
      "cell_type": "markdown",
      "source": [
        "---\n",
        "\n",
        "## ⚖️ Iterative vs Recursive — Which is Better?\n",
        "\n",
        "| Feature      | Iterative Approach | Recursive Approach                         |\n",
        "| ------------ | ------------------ | ------------------------------------------ |\n",
        "| Speed        | Slightly faster    | Slightly slower                            |\n",
        "| Memory Usage | Low                | Higher (uses call stack)                   |\n",
        "| Readability  | Simple             | Elegant but can be confusing for beginners |\n",
        "| Risk         | No stack overflow  | Possible if `n` is too large               |\n",
        "\n",
        "For very large numbers (like `factorial(10000)`), the **iterative version is safer**, because recursion can hit Python’s recursion limit and crash.\n",
        "\n",
        "---\n",
        "\n",
        "## ⚠️ Always Validate Input\n",
        "\n",
        "Both functions above include a check:"
      ],
      "metadata": {
        "id": "lhJyZwNsMJHg"
      }
    },
    {
      "cell_type": "code",
      "source": [
        "if n < 0:\n",
        "    return \"Error: Factorial is not defined for negative numbers.\"\n"
      ],
      "metadata": {
        "colab": {
          "base_uri": "https://localhost:8080/",
          "height": 110
        },
        "id": "x6JaQfRT7Jm7",
        "outputId": "73a72a45-b5df-4c29-acd8-8fb436ad496e"
      },
      "execution_count": 5,
      "outputs": [
        {
          "output_type": "error",
          "ename": "SyntaxError",
          "evalue": "'return' outside function (ipython-input-3811279415.py, line 2)",
          "traceback": [
            "\u001b[0;36m  File \u001b[0;32m\"/tmp/ipython-input-3811279415.py\"\u001b[0;36m, line \u001b[0;32m2\u001b[0m\n\u001b[0;31m    return \"Error: Factorial is not defined for negative numbers.\"\u001b[0m\n\u001b[0m    ^\u001b[0m\n\u001b[0;31mSyntaxError\u001b[0m\u001b[0;31m:\u001b[0m 'return' outside function\n"
          ]
        }
      ]
    },
    {
      "cell_type": "markdown",
      "source": [
        "This prevents invalid inputs like `-5` from causing errors or infinite loops.\n",
        "\n",
        "---\n",
        "\n",
        "## 📦 Bonus: Using Python’s Built-in Function\n",
        "\n",
        "Python already has a built-in function for factorial in the `math` module:"
      ],
      "metadata": {
        "id": "98okySRe7dWp"
      }
    },
    {
      "cell_type": "code",
      "source": [
        "import math\n",
        "print(math.factorial(5))  # Output: 120"
      ],
      "metadata": {
        "colab": {
          "base_uri": "https://localhost:8080/"
        },
        "id": "rF7wvjXB6idQ",
        "outputId": "069171b9-6b52-486d-ce0f-4e28332aba43"
      },
      "execution_count": 6,
      "outputs": [
        {
          "output_type": "stream",
          "name": "stdout",
          "text": [
            "120\n"
          ]
        }
      ]
    },
    {
      "cell_type": "markdown",
      "source": [
        "Use this in real-world projects unless you're learning or building it yourself.\n",
        "\n",
        "---\n",
        "\n",
        "## ✅ Conclusion\n",
        "\n",
        "Now you know **two ways** to calculate factorial in Python:\n",
        "\n",
        "* Use **loops** for speed and safety.\n",
        "* Use **recursion** to understand deeper programming concepts.\n",
        "\n",
        "Both methods are valid, and learning them builds your foundation in **problem-solving**, **functions**, and **logic**.\n",
        "\n",
        "---\n",
        "\n",
        "## 🧪 Try it Yourself"
      ],
      "metadata": {
        "id": "Blpl0uvc62PF"
      }
    },
    {
      "cell_type": "code",
      "source": [
        "print(factorial_iterative(0))     # 1\n",
        "print(factorial_recursive(1))     # 1\n",
        "print(factorial_iterative(-3))    # Error\n",
        "print(factorial_recursive(6))     # 720"
      ],
      "metadata": {
        "colab": {
          "base_uri": "https://localhost:8080/"
        },
        "id": "DErYEJbn6px4",
        "outputId": "01bbcfa1-9451-4124-ab09-e815f8749553"
      },
      "execution_count": 7,
      "outputs": [
        {
          "output_type": "stream",
          "name": "stdout",
          "text": [
            "1\n",
            "1\n",
            "Error: Factorial is not defined for negative numbers.\n",
            "720\n"
          ]
        }
      ]
    },
    {
      "cell_type": "markdown",
      "source": [
        "###"
      ],
      "metadata": {
        "id": "3-zvW-rr7_rp"
      }
    }
  ]
}