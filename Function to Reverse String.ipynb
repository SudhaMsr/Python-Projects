{
  "nbformat": 4,
  "nbformat_minor": 0,
  "metadata": {
    "colab": {
      "provenance": []
    },
    "kernelspec": {
      "name": "python3",
      "display_name": "Python 3"
    },
    "language_info": {
      "name": "python"
    }
  },
  "cells": [
    {
      "cell_type": "markdown",
      "source": [
        "###"
      ],
      "metadata": {
        "id": "HwKaQ7Qr6MBv"
      }
    },
    {
      "cell_type": "markdown",
      "source": [
        "\n",
        "---\n",
        "\n",
        "# How to Write a Function to Reverse a String in Python\n",
        "\n",
        "*With and Without Slicing Explained Step-by-Step*\n",
        "\n",
        "---\n",
        "\n",
        "Reversing a string is a classic problem in programming — it helps you understand how strings work and practice string manipulation.\n",
        "\n",
        "In Python, the easiest way is to use slicing. But what if you want or need to do it without slicing? No worries! In this post, I’ll walk you through **both methods** with clear explanations.\n",
        "\n",
        "---\n",
        "\n",
        "## Part 1: Reversing a String **With Slicing**\n",
        "\n",
        "### What is slicing?\n",
        "\n",
        "Slicing is a Python feature that lets you extract parts of a sequence like strings, lists, or tuples by specifying start, end, and step indices.\n",
        "\n",
        "The syntax looks like this:\n",
        "\n",
        "```python\n",
        "s[start:stop:step]\n",
        "```\n",
        "\n",
        "For example, `s[1:5]` means characters from index 1 up to (but not including) 5.\n",
        "\n",
        "---\n",
        "\n",
        "### How to use slicing to reverse a string?\n",
        "\n",
        "If you set the step to `-1`, you tell Python to take characters in reverse order.\n",
        "\n",
        "Example:\n",
        "\n"
      ],
      "metadata": {
        "id": "3K8D2Wep6PZn"
      }
    },
    {
      "cell_type": "code",
      "source": [
        "s = \"hello\"\n",
        "print(s[::-1])  # Output: 'olleh'"
      ],
      "metadata": {
        "colab": {
          "base_uri": "https://localhost:8080/"
        },
        "id": "oAjWQSTBAJtA",
        "outputId": "45176d46-2f26-458a-cd1c-ac3df7301c9f"
      },
      "execution_count": 1,
      "outputs": [
        {
          "output_type": "stream",
          "name": "stdout",
          "text": [
            "olleh\n"
          ]
        }
      ]
    },
    {
      "cell_type": "markdown",
      "source": [
        "### Writing the reverse function using slicing:"
      ],
      "metadata": {
        "id": "OEHbI05UANOx"
      }
    },
    {
      "cell_type": "code",
      "source": [
        "def reverse_string(s):\n",
        "    return s[::-1]"
      ],
      "metadata": {
        "id": "bL-74dgeAQ1e"
      },
      "execution_count": 2,
      "outputs": []
    },
    {
      "cell_type": "markdown",
      "source": [
        "**Explanation:**\n",
        "\n",
        "* `s[::-1]` means: start from the end towards the start, stepping backwards by 1 character at a time.\n",
        "* This creates a new string that is the reverse of `s`.\n",
        "\n",
        "---\n",
        "\n",
        "### Example usage:"
      ],
      "metadata": {
        "id": "QbttBp6wASSM"
      }
    },
    {
      "cell_type": "code",
      "source": [
        "original = \"python\"\n",
        "reversed_str = reverse_string(original)\n",
        "print(reversed_str)  # Output: 'nohtyp'"
      ],
      "metadata": {
        "colab": {
          "base_uri": "https://localhost:8080/"
        },
        "id": "okvaU7RdAV3e",
        "outputId": "81a663ab-6a70-4763-f358-bdedeef5ce4f"
      },
      "execution_count": 3,
      "outputs": [
        {
          "output_type": "stream",
          "name": "stdout",
          "text": [
            "nohtyp\n"
          ]
        }
      ]
    },
    {
      "cell_type": "markdown",
      "source": [
        "## Part 2: Reversing a String **Without Using Slicing**\n",
        "\n",
        "Sometimes you might want to avoid slicing, for example, in an interview setting or to better understand string manipulation. Here are some ways to do it.\n",
        "\n",
        "---\n",
        "\n",
        "### Method 1: Using a Loop (Building a New String)"
      ],
      "metadata": {
        "id": "m1pysLa1AYY6"
      }
    },
    {
      "cell_type": "code",
      "source": [
        "def reverse_string(s):\n",
        "    reversed_s = \"\"  # Start with an empty string\n",
        "    for char in s:   # Loop through each character in s\n",
        "        reversed_s = char + reversed_s  # Add current character to the front of reversed_s\n",
        "    return reversed_s"
      ],
      "metadata": {
        "id": "4TXxB8ZAAdQj"
      },
      "execution_count": 4,
      "outputs": []
    },
    {
      "cell_type": "markdown",
      "source": [
        "### Breaking down the loop:\n",
        "\n",
        "* **Step 1:** Initialize an empty string `reversed_s` which will store the reversed version of `s`.\n",
        "* **Step 2:** For each character (`char`) in the original string:\n",
        "\n",
        "  * Add `char` **before** the current content of `reversed_s`.\n",
        "* **Step 3:** After processing all characters, return `reversed_s`.\n",
        "\n",
        "---\n",
        "\n",
        "### Why does adding characters at the front reverse the string?\n",
        "\n",
        "Let's take `s = \"abc\"` as an example:\n",
        "\n",
        "| Loop Step | `char` | Current `reversed_s` before adding | Operation    | `reversed_s` after adding |\n",
        "| --------- | ------ | ---------------------------------- | ------------ | ------------------------- |\n",
        "| 1         | 'a'    | \"\" (empty)                         | `'a' + \"\"`   | \"a\"                       |\n",
        "| 2         | 'b'    | \"a\"                                | `'b' + \"a\"`  | \"ba\"                      |\n",
        "| 3         | 'c'    | \"ba\"                               | `'c' + \"ba\"` | \"cba\"                     |\n",
        "\n",
        "Notice how the characters stack in reverse order!\n",
        "\n",
        "---\n",
        "\n",
        "### Example usage:"
      ],
      "metadata": {
        "id": "nzs1-Cf9AgR1"
      }
    },
    {
      "cell_type": "code",
      "source": [
        "original = \"hello\"\n",
        "reversed_str = reverse_string(original)\n",
        "print(reversed_str)  # Output: 'olleh'"
      ],
      "metadata": {
        "colab": {
          "base_uri": "https://localhost:8080/"
        },
        "id": "Gi7RRZLPAjEU",
        "outputId": "bfaad390-7925-4aae-8578-d4cd0b6be8c7"
      },
      "execution_count": 5,
      "outputs": [
        {
          "output_type": "stream",
          "name": "stdout",
          "text": [
            "olleh\n"
          ]
        }
      ]
    },
    {
      "cell_type": "markdown",
      "source": [
        "### Method 2: Using `reversed()` and `join()`\n",
        "\n",
        "Python has a built-in function called `reversed()` which returns an iterator that yields the elements of the string in reverse order.\n",
        "\n",
        "We can then join those characters together using `''.join()`.\n"
      ],
      "metadata": {
        "id": "Zfn5i8GWAlfO"
      }
    },
    {
      "cell_type": "code",
      "source": [
        "def reverse_string(s):\n",
        "    return ''.join(reversed(s))"
      ],
      "metadata": {
        "id": "ci08UuscApXj"
      },
      "execution_count": 6,
      "outputs": []
    },
    {
      "cell_type": "markdown",
      "source": [
        "### How this works:\n",
        "\n",
        "* `reversed(s)` goes through the string backwards.\n",
        "* `''.join(...)` takes that reversed sequence of characters and combines them into a string.\n",
        "\n",
        "---\n",
        "\n",
        "### Example usage:"
      ],
      "metadata": {
        "id": "RsAO6J6CAsIm"
      }
    },
    {
      "cell_type": "code",
      "source": [
        "original = \"world\"\n",
        "reversed_str = reverse_string(original)\n",
        "print(reversed_str)  # Output: 'dlrow'"
      ],
      "metadata": {
        "colab": {
          "base_uri": "https://localhost:8080/"
        },
        "id": "JcawByFP6iVY",
        "outputId": "da11568c-eac2-4f56-cf26-2adc8b2abd0f"
      },
      "execution_count": 7,
      "outputs": [
        {
          "output_type": "stream",
          "name": "stdout",
          "text": [
            "dlrow\n"
          ]
        }
      ]
    },
    {
      "cell_type": "markdown",
      "source": [
        "### Method 3: Using Recursion (Advanced)\n",
        "\n",
        "Here’s a fun way to reverse a string using recursion:\n"
      ],
      "metadata": {
        "id": "s4kiWk7g7BXP"
      }
    },
    {
      "cell_type": "code",
      "source": [
        "def reverse_string(s):\n",
        "    if len(s) == 0:\n",
        "        return s\n",
        "    return reverse_string(s[1:]) + s[0]\n"
      ],
      "metadata": {
        "id": "yXrR-4suBKEz"
      },
      "execution_count": 8,
      "outputs": []
    },
    {
      "cell_type": "markdown",
      "source": [
        "---\n",
        "\n",
        "### How does it work?\n",
        "\n",
        "* Base case: If the string is empty, return it.\n",
        "* Recursive case: Call the function on the substring without the first character (`s[1:]`), then add the first character (`s[0]`) to the end.\n",
        "* This builds the reversed string as the recursive calls return.\n",
        "\n",
        "---\n",
        "\n",
        "### Example usage:\n"
      ],
      "metadata": {
        "id": "98okySRe7dWp"
      }
    },
    {
      "cell_type": "code",
      "source": [
        "original = \"python\"\n",
        "reversed_str = reverse_string(original)\n",
        "print(reversed_str)  # Output: 'nohtyp'"
      ],
      "metadata": {
        "colab": {
          "base_uri": "https://localhost:8080/"
        },
        "id": "rF7wvjXB6idQ",
        "outputId": "1bd18eb6-236d-4e7f-f610-253604eff119"
      },
      "execution_count": 9,
      "outputs": [
        {
          "output_type": "stream",
          "name": "stdout",
          "text": [
            "nohtyp\n"
          ]
        }
      ]
    },
    {
      "cell_type": "markdown",
      "source": [
        "\n",
        "---\n",
        "\n",
        "### Note about recursion:\n",
        "\n",
        "* This method does use slicing (`s[1:]`), but not the reverse slicing trick (`[::-1]`).\n",
        "* It’s useful to understand recursion, but might be less efficient for long strings.\n",
        "\n",
        "---\n",
        "\n",
        "## Summary Table\n",
        "\n",
        "| Method                  | Uses Slicing? | How It Works                                  |\n",
        "| ----------------------- | ------------- | --------------------------------------------- |\n",
        "| Slicing (`s[::-1]`)     | Yes           | Python slice with step -1 reverses the string |\n",
        "| Loop Prepending         | No            | Add each char to front of new string          |\n",
        "| `reversed()` + `join()` | No            | Use built-in reversed iterator and join       |\n",
        "| Recursion               | Partial       | Recursively build reversed string by slicing  |\n",
        "\n",
        "---\n",
        "\n",
        "## Final Thoughts\n",
        "\n",
        "Reversing a string is a simple but fundamental task in programming. Python’s slicing is the fastest and cleanest way to do it, but understanding alternative methods helps you improve your logic skills.\n",
        "\n",
        "Try to implement these yourself and see how they work step-by-step.\n",
        "\n",
        "Got questions or want me to explain any part more deeply? Just ask!\n",
        "\n",
        "---\n",
        "\n",
        "Would you like me to provide you with code for other languages or help with any string manipulation challenges?\n"
      ],
      "metadata": {
        "id": "Blpl0uvc62PF"
      }
    },
    {
      "cell_type": "markdown",
      "source": [
        "###"
      ],
      "metadata": {
        "id": "3-zvW-rr7_rp"
      }
    }
  ]
}