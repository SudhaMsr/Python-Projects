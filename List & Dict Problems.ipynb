{
  "nbformat": 4,
  "nbformat_minor": 0,
  "metadata": {
    "colab": {
      "provenance": []
    },
    "kernelspec": {
      "name": "python3",
      "display_name": "Python 3"
    },
    "language_info": {
      "name": "python"
    }
  },
  "cells": [
    {
      "cell_type": "markdown",
      "source": [
        "###"
      ],
      "metadata": {
        "id": "HwKaQ7Qr6MBv"
      }
    },
    {
      "cell_type": "markdown",
      "source": [
        "I’ll include:\n",
        "\n",
        "* What the problem is\n",
        "* A small code solution\n",
        "* A clear explanation of **what is happening** and **why it works**\n",
        "\n",
        "---\n",
        "\n",
        "# 🧠 Mini Coding Blog: Understanding Lists & Dictionaries in Python\n",
        "\n",
        "These beginner-friendly problems help build core Python logic using **lists** and **dictionaries**. You’ll learn how to **sum numbers**, **find unique items**, and **work with keys and values**.\n",
        "\n",
        "---\n",
        "\n",
        "### 🟡 1. Sum of Numbers in a List\n",
        "\n",
        "**Problem:**\n",
        "Given a list like `[1, 2, 3, 4]`, calculate the **sum** of all numbers.\n",
        "\n",
        "**Code:**\n",
        "\n",
        "\n"
      ],
      "metadata": {
        "id": "3K8D2Wep6PZn"
      }
    },
    {
      "cell_type": "code",
      "source": [
        "numbers = [1, 2, 3, 4]\n",
        "total = sum(numbers)\n",
        "print(total)"
      ],
      "metadata": {
        "colab": {
          "base_uri": "https://localhost:8080/"
        },
        "id": "oAjWQSTBAJtA",
        "outputId": "997d1677-6fd0-4fe1-f3b6-0a3e0b18e7ab"
      },
      "execution_count": 1,
      "outputs": [
        {
          "output_type": "stream",
          "name": "stdout",
          "text": [
            "10\n"
          ]
        }
      ]
    },
    {
      "cell_type": "markdown",
      "source": [
        "**What's Happening:**\n",
        "\n",
        "* `sum(numbers)` adds up all items in the list.\n",
        "* It's the same as doing `1 + 2 + 3 + 4`\n",
        "* `sum()` is a built-in Python function that works on any list of numbers.\n",
        "\n",
        "🧠 You can also do it manually with a loop:\n"
      ],
      "metadata": {
        "id": "7hI7PdN3Jm0B"
      }
    },
    {
      "cell_type": "code",
      "source": [
        "total = 0\n",
        "for num in numbers:\n",
        "    total += num"
      ],
      "metadata": {
        "id": "NdxgTMFuJrLL"
      },
      "execution_count": 2,
      "outputs": []
    },
    {
      "cell_type": "markdown",
      "source": [
        "---\n",
        "\n",
        "### 🟡 2. Sum of Values in a Dictionary\n",
        "\n",
        "**Problem:**\n",
        "Given a dictionary like `{'a': 1, 'b': 2, 'c': 3}`, find the sum of its **values**.\n",
        "\n",
        "**Code:**"
      ],
      "metadata": {
        "id": "ivLGRRHEJuRk"
      }
    },
    {
      "cell_type": "markdown",
      "source": [
        "\n",
        "\n",
        "\n",
        "```python\n",
        "data = {'a': 1, 'b': 2, 'c': 3}\n",
        "total = sum(data.values())\n",
        "print(total)\n",
        "```\n",
        "\n",
        "\n",
        "\n"
      ],
      "metadata": {
        "id": "ZLdZQZEIJMI8"
      }
    },
    {
      "cell_type": "code",
      "source": [
        "data = {'a': 1, 'b': 2, 'c': 3}\n",
        "total = sum(data.values())\n",
        "print(total)"
      ],
      "metadata": {
        "colab": {
          "base_uri": "https://localhost:8080/"
        },
        "id": "ivjja3cqKEfe",
        "outputId": "9629f52b-513e-4f1d-cd97-1d5148cf281d"
      },
      "execution_count": 3,
      "outputs": [
        {
          "output_type": "stream",
          "name": "stdout",
          "text": [
            "6\n"
          ]
        }
      ]
    },
    {
      "cell_type": "markdown",
      "source": [
        "**What's Happening:**\n",
        "\n",
        "* `data.values()` gives us a list-like view of just the values: `[1, 2, 3]`\n",
        "* Then `sum()` adds them up.\n",
        "\n",
        "🎯 You don’t need the keys — we only care about the **values** here.\n",
        "\n",
        "---\n",
        "\n",
        "### 🟡 3. Find Unique Items in a List\n",
        "\n",
        "**Problem:**\n",
        "Given a list like `[1, 2, 2, 3, 4, 4]`, return the **unique items**.\n",
        "\n",
        "**Code:**"
      ],
      "metadata": {
        "id": "3-WOt54nKCRK"
      }
    },
    {
      "cell_type": "code",
      "source": [
        "items = [1, 2, 2, 3, 4, 4]\n",
        "unique_items = list(set(items))\n",
        "print(unique_items)"
      ],
      "metadata": {
        "colab": {
          "base_uri": "https://localhost:8080/"
        },
        "id": "w3GB2uAGJ7Yu",
        "outputId": "b35e3359-9aa7-4779-bed9-034cd062c725"
      },
      "execution_count": 4,
      "outputs": [
        {
          "output_type": "stream",
          "name": "stdout",
          "text": [
            "[1, 2, 3, 4]\n"
          ]
        }
      ]
    },
    {
      "cell_type": "markdown",
      "source": [
        "**Possible Output:**\n",
        "`[1, 2, 3, 4]` *(order may vary)*\n",
        "\n",
        "**What's Happening:**\n",
        "\n",
        "* `set(items)` removes duplicates.\n",
        "* A **set** is an unordered collection where all items are unique.\n",
        "* We convert it back to a `list` so it’s easier to work with.\n",
        "\n",
        "🎓 Try printing just `set(items)` to see how sets look!\n",
        "\n",
        "---\n",
        "\n",
        "### 🟡 4. Count Unique Items in a List\n",
        "\n",
        "**Problem:**\n",
        "How many **unique values** are in a list like `[1, 2, 2, 3, 4, 4]`?\n",
        "\n",
        "**Code:**\n"
      ],
      "metadata": {
        "id": "r-Cgl8QkJ0QM"
      }
    },
    {
      "cell_type": "code",
      "source": [
        "items = [1, 2, 2, 3, 4, 4]\n",
        "unique_count = len(set(items))\n",
        "print(unique_count)"
      ],
      "metadata": {
        "colab": {
          "base_uri": "https://localhost:8080/"
        },
        "id": "TR__5HOMJiuA",
        "outputId": "528fd66a-2537-4803-c1de-3981d30509e2"
      },
      "execution_count": 5,
      "outputs": [
        {
          "output_type": "stream",
          "name": "stdout",
          "text": [
            "4\n"
          ]
        }
      ]
    },
    {
      "cell_type": "markdown",
      "source": [
        "\n",
        "**What's Happening:**\n",
        "\n",
        "* `set(items)` gives us `{1, 2, 3, 4}`\n",
        "* `len(...)` counts how many items are in that set\n",
        "\n",
        "✅ Use `len(set(...))` anytime you want to count unique values in a list.\n",
        "\n",
        "---\n",
        "\n",
        "### 🟡 5. Find Unique Keys in a List of Dictionaries\n",
        "\n",
        "**Problem:**\n",
        "Given a list like this:"
      ],
      "metadata": {
        "id": "QU70KzuzJbwO"
      }
    },
    {
      "cell_type": "code",
      "source": [
        "data = [{'a': 1, 'b': 2}, {'b': 3, 'c': 4}]"
      ],
      "metadata": {
        "id": "pVFDs5TdJYV2"
      },
      "execution_count": 6,
      "outputs": []
    },
    {
      "cell_type": "markdown",
      "source": [
        "Find all **unique keys**.\n",
        "\n",
        "**Code:**"
      ],
      "metadata": {
        "id": "NobwxEE4JSRk"
      }
    },
    {
      "cell_type": "code",
      "source": [
        "data = [{'a': 1, 'b': 2}, {'b': 3, 'c': 4}]\n",
        "unique_keys = set()\n",
        "\n",
        "for d in data:\n",
        "    unique_keys.update(d.keys())\n",
        "\n",
        "print(unique_keys)"
      ],
      "metadata": {
        "colab": {
          "base_uri": "https://localhost:8080/"
        },
        "id": "HgzC7POMJMdc",
        "outputId": "dc21c3bd-80d5-471c-9234-daeaddec0cbc"
      },
      "execution_count": 7,
      "outputs": [
        {
          "output_type": "stream",
          "name": "stdout",
          "text": [
            "{'a', 'b', 'c'}\n"
          ]
        }
      ]
    },
    {
      "cell_type": "markdown",
      "source": [
        "\n",
        "\n",
        "**What's Happening:**\n",
        "\n",
        "* `d.keys()` gives keys of each dictionary\n",
        "* `.update()` adds new keys into the set\n",
        "* A set keeps keys **unique**, so duplicates are ignored\n",
        "\n",
        "💡 Why not just do `d.keys()` for the whole list? Because each `d` is a separate dictionary — we loop through them.\n",
        "\n",
        "---\n",
        "\n",
        "## ✅ Summary\n",
        "\n",
        "| Problem                  | Concept           | Key Function(s)                     |\n",
        "| ------------------------ | ----------------- | ----------------------------------- |\n",
        "| Sum list                 | Loop / `sum()`    | `sum(list)`                         |\n",
        "| Sum dict values          | Dict values       | `dict.values()`                     |\n",
        "| Unique list items        | Remove duplicates | `set(list)`                         |\n",
        "| Count unique items       | Length of set     | `len(set(...))`                     |\n",
        "| Unique keys in dict list | Loop & merge keys | `set()`, `.update()`, `dict.keys()` |\n",
        "\n",
        "---"
      ],
      "metadata": {
        "id": "Blpl0uvc62PF"
      }
    },
    {
      "cell_type": "markdown",
      "source": [
        "###"
      ],
      "metadata": {
        "id": "3-zvW-rr7_rp"
      }
    }
  ]
}